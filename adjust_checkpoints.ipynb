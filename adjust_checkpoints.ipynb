{
 "cells": [
  {
   "cell_type": "code",
   "execution_count": null,
   "id": "603644cb",
   "metadata": {},
   "outputs": [],
   "source": [
    "import torch\n",
    "\n",
    "\n",
    "# CHANGE STRING TO CHOSEN LANGUAGE CODE (el, el_r, ru, ru_r, ja, ja_r, th, th_r, pl)\n",
    "language = \"XX\"\n",
    "\n",
    "INIT = torch.load(\"checkpoints/pl_init.ckpt\", map_location=torch.device('cpu'))\n",
    "\n",
    "checkpoint = torch.load(\"checkpoints/\" + language + \".ckpt\", map_location=torch.device('cpu'))\n",
    "\n",
    "\n",
    "checkpoint[\"model_state\"][\"src_embed.lut.weight\"] = INIT[\"model_state\"][\"src_embed.lut.weight\"]\n",
    "checkpoint[\"model_state\"][\"trg_embed.lut.weight\"] = INIT[\"model_state\"][\"trg_embed.lut.weight\"]\n",
    "checkpoint[\"model_state\"][\"decoder.output_layer.weight\"] = INIT[\"model_state\"][\"decoder.output_layer.weight\"]\n",
    "\n",
    "checkpoint[\"optimizer_state\"][\"state\"][0][\"exp_avg\"] = INIT[\"optimizer_state\"][\"state\"][0][\"exp_avg\"]\n",
    "checkpoint[\"optimizer_state\"][\"state\"][0][\"exp_avg_sq\"] = INIT[\"optimizer_state\"][\"state\"][0][\"exp_avg_sq\"]\n",
    "checkpoint[\"optimizer_state\"][\"state\"][1][\"exp_avg\"] = INIT[\"optimizer_state\"][\"state\"][1][\"exp_avg\"]\n",
    "checkpoint[\"optimizer_state\"][\"state\"][1][\"exp_avg_sq\"] = INIT[\"optimizer_state\"][\"state\"][1][\"exp_avg_sq\"]\n",
    "\n",
    "checkpoint[\"optimizer_state\"][\"state\"][12][\"exp_avg\"] = INIT[\"optimizer_state\"][\"state\"][12][\"exp_avg\"]\n",
    "checkpoint[\"optimizer_state\"][\"state\"][12][\"exp_avg_sq\"] = INIT[\"optimizer_state\"][\"state\"][12][\"exp_avg_sq\"]\n",
    "\n",
    "\n",
    "torch.save(checkpoint, \"checkpoints/checkpoints_adjusted/\" + language + \".ckpt\")"
   ]
  }
 ],
 "metadata": {
  "kernelspec": {
   "display_name": "Python 3 (ipykernel)",
   "language": "python",
   "name": "python3"
  },
  "language_info": {
   "codemirror_mode": {
    "name": "ipython",
    "version": 3
   },
   "file_extension": ".py",
   "mimetype": "text/x-python",
   "name": "python",
   "nbconvert_exporter": "python",
   "pygments_lexer": "ipython3",
   "version": "3.8.3"
  }
 },
 "nbformat": 4,
 "nbformat_minor": 5
}
